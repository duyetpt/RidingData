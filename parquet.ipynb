{
 "cells": [
  {
   "cell_type": "code",
   "execution_count": 131,
   "metadata": {},
   "outputs": [
    {
     "name": "stdout",
     "output_type": "stream",
     "text": [
      "Converted!\n",
      "Done!\n"
     ]
    }
   ],
   "source": [
    "# Before run this note please install follow packages\n",
    "# pip3 install pandas pyarrow pandasql\n",
    "\n",
    "# Q1\n",
    "import pandas as pd\n",
    "converters = {\n",
    "    'lpep_pickup_datetime': lambda x : pd.to_datetime(x, format='%Y%m%d %H:%M:%S'),\n",
    "    'Lpep_dropoff_datetime': lambda x : pd.to_datetime(x, format='%Y%m%d %H:%M:%S'),\n",
    "    'Store_and_fwd_flag': lambda x : False if x == None else x == 'Y',\n",
    "    'Ehail_fee': lambda x : 0 if not x else x,\n",
    "    'Trip_type ': lambda x : -1 if not x else int(x)\n",
    "}\n",
    "df = pd.read_csv('green_tripdata_2013-09.csv', skiprows=[1,1], converters=converters).rename(columns=lambda x: x.strip().lower())\n",
    "df.to_parquet('/tmp/green_tripdata_2013-09.parquet')\n",
    "print(\"Converted!\")\n",
    "\n",
    "#Q2\n",
    "import pandasql as ps\n",
    "query = \"\"\"SELECT df.*, strftime('%H', lpep_pickup_datetime) as hour, strftime('%w', lpep_pickup_datetime) as dow, (strftime('%s', Lpep_dropoff_datetime) - strftime('%s', lpep_pickup_datetime)) as seconds_duration  FROM df \"\"\"\n",
    "\n",
    "df1 = ps.sqldf(query, locals())\n",
    "df1.to_parquet('/tmp/green_tripdata_2013-09_and_addition.parquet')\n",
    "print(\"Done!\")\n"
   ]
  },
  {
   "cell_type": "code",
   "execution_count": null,
   "metadata": {},
   "outputs": [],
   "source": []
  }
 ],
 "metadata": {
  "kernelspec": {
   "display_name": "Python 3",
   "language": "python",
   "name": "python3"
  },
  "language_info": {
   "codemirror_mode": {
    "name": "ipython",
    "version": 3
   },
   "file_extension": ".py",
   "mimetype": "text/x-python",
   "name": "python",
   "nbconvert_exporter": "python",
   "pygments_lexer": "ipython3",
   "version": "3.8.5"
  }
 },
 "nbformat": 4,
 "nbformat_minor": 4
}
