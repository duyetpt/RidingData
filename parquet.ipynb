{
 "cells": [
  {
   "cell_type": "code",
   "execution_count": 101,
   "metadata": {},
   "outputs": [
    {
     "name": "stdout",
     "output_type": "stream",
     "text": [
      "Converted!\n"
     ]
    }
   ],
   "source": [
    "# pip3 install jupyter\n",
    "# pyarrow, fastparquet\n",
    "# pip3 install pandas\n",
    "\n",
    "import pandas as pd\n",
    "converters = {\n",
    "    'lpep_pickup_datetime': lambda x : pd.to_datetime(x, format='%Y%m%d %H:%M:%S'),\n",
    "    'Lpep_dropoff_datetime': lambda x : pd.to_datetime(x, format='%Y%m%d %H:%M:%S'),\n",
    "    'Store_and_fwd_flag': lambda x : False if x == None else x == 'Y',\n",
    "    'Ehail_fee': lambda x : 0 if not x else x,\n",
    "    'Trip_type ': lambda x : -1 if not x else int(x)\n",
    "}\n",
    "df = pd.read_csv('green_tripdata_2013-09.csv', skiprows=[1,1], converters=converters).rename(columns=lambda x: x.strip().lower())\n",
    "df.to_parquet('/tmp/green_tripdata_2013-09.parquet')\n",
    "print(\"Converted!\")"
   ]
  },
  {
   "cell_type": "code",
   "execution_count": null,
   "metadata": {},
   "outputs": [],
   "source": []
  }
 ],
 "metadata": {
  "kernelspec": {
   "display_name": "Python 3",
   "language": "python",
   "name": "python3"
  },
  "language_info": {
   "codemirror_mode": {
    "name": "ipython",
    "version": 3
   },
   "file_extension": ".py",
   "mimetype": "text/x-python",
   "name": "python",
   "nbconvert_exporter": "python",
   "pygments_lexer": "ipython3",
   "version": "3.8.5"
  }
 },
 "nbformat": 4,
 "nbformat_minor": 4
}
